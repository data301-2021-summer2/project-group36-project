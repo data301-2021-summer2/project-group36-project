{
 "cells": [
  {
   "cell_type": "code",
   "execution_count": 2,
   "id": "e999a0d2-ceb7-4970-b24c-a3f2c3cfe144",
   "metadata": {},
   "outputs": [],
   "source": [
    "import pandas as pd\n",
    "import numpy as np\n",
    "import seaborn as sns\n",
    "import matplotlib.pyplot as plt"
   ]
  },
  {
   "cell_type": "code",
   "execution_count": 3,
   "id": "7ae34c41-fe23-493e-b60b-99c9b38f0abd",
   "metadata": {},
   "outputs": [
    {
     "data": {
      "text/plain": [
       "'/Users/admin/Desktop/Data301/project-group36-project/analysis/Stephany_Chowsen'"
      ]
     },
     "execution_count": 3,
     "metadata": {},
     "output_type": "execute_result"
    }
   ],
   "source": [
    "pwd"
   ]
  },
  {
   "cell_type": "code",
   "execution_count": 4,
   "id": "21e10ac1-fdc6-49ae-a49a-05e6fea3c203",
   "metadata": {},
   "outputs": [
    {
     "name": "stdout",
     "output_type": "stream",
     "text": [
      "/Users/admin/Desktop/Data301/project-group36-project/analysis\n"
     ]
    }
   ],
   "source": [
    "cd .."
   ]
  },
  {
   "cell_type": "code",
   "execution_count": 5,
   "id": "54af46dc-38a3-4b0d-b968-4080b2fddec0",
   "metadata": {},
   "outputs": [
    {
     "name": "stdout",
     "output_type": "stream",
     "text": [
      "/Users/admin/Desktop/Data301/project-group36-project\n"
     ]
    }
   ],
   "source": [
    "cd .."
   ]
  },
  {
   "cell_type": "code",
   "execution_count": 6,
   "id": "19d66e5c-77a0-412c-9f27-42d1977eb3db",
   "metadata": {},
   "outputs": [
    {
     "name": "stdout",
     "output_type": "stream",
     "text": [
      "CODE_OF_CONDUCT.md  README.md           \u001b[1m\u001b[36mdata\u001b[m\u001b[m/               \u001b[1m\u001b[36mpresentation\u001b[m\u001b[m/\n",
      "LICENSE             \u001b[1m\u001b[36manalysis\u001b[m\u001b[m/           \u001b[1m\u001b[36mimages\u001b[m\u001b[m/\n"
     ]
    }
   ],
   "source": [
    "ls "
   ]
  },
  {
   "cell_type": "code",
   "execution_count": 7,
   "id": "150965af-c195-4f79-8203-f7949306dcb6",
   "metadata": {},
   "outputs": [
    {
     "name": "stdout",
     "output_type": "stream",
     "text": [
      "/Users/admin/Desktop/Data301/project-group36-project/data\n"
     ]
    }
   ],
   "source": [
    "cd data"
   ]
  },
  {
   "cell_type": "code",
   "execution_count": 8,
   "id": "75a62ac0-23f1-440e-b70a-d9ee9085a258",
   "metadata": {},
   "outputs": [
    {
     "name": "stdout",
     "output_type": "stream",
     "text": [
      "/Users/admin/Desktop/Data301/project-group36-project/data/raw\n"
     ]
    }
   ],
   "source": [
    "cd raw"
   ]
  },
  {
   "cell_type": "code",
   "execution_count": 9,
   "id": "8ff23cc2-9e20-42a1-ae0d-0a65f3c26d40",
   "metadata": {},
   "outputs": [
    {
     "name": "stdout",
     "output_type": "stream",
     "text": [
      "Athenslistings.csv  README.md\n"
     ]
    }
   ],
   "source": [
    "ls"
   ]
  },
  {
   "cell_type": "code",
   "execution_count": 14,
   "id": "a78eee1b-31ee-4dca-a28e-93ff246f60cd",
   "metadata": {},
   "outputs": [
    {
     "data": {
      "text/html": [
       "<div>\n",
       "<style scoped>\n",
       "    .dataframe tbody tr th:only-of-type {\n",
       "        vertical-align: middle;\n",
       "    }\n",
       "\n",
       "    .dataframe tbody tr th {\n",
       "        vertical-align: top;\n",
       "    }\n",
       "\n",
       "    .dataframe thead th {\n",
       "        text-align: right;\n",
       "    }\n",
       "</style>\n",
       "<table border=\"1\" class=\"dataframe\">\n",
       "  <thead>\n",
       "    <tr style=\"text-align: right;\">\n",
       "      <th></th>\n",
       "      <th>id</th>\n",
       "      <th>listing_url</th>\n",
       "      <th>scrape_id</th>\n",
       "      <th>last_scraped</th>\n",
       "      <th>name</th>\n",
       "      <th>description</th>\n",
       "      <th>neighborhood_overview</th>\n",
       "      <th>picture_url</th>\n",
       "      <th>host_id</th>\n",
       "      <th>host_url</th>\n",
       "      <th>...</th>\n",
       "      <th>review_scores_communication</th>\n",
       "      <th>review_scores_location</th>\n",
       "      <th>review_scores_value</th>\n",
       "      <th>license</th>\n",
       "      <th>instant_bookable</th>\n",
       "      <th>calculated_host_listings_count</th>\n",
       "      <th>calculated_host_listings_count_entire_homes</th>\n",
       "      <th>calculated_host_listings_count_private_rooms</th>\n",
       "      <th>calculated_host_listings_count_shared_rooms</th>\n",
       "      <th>reviews_per_month</th>\n",
       "    </tr>\n",
       "  </thead>\n",
       "  <tbody>\n",
       "    <tr>\n",
       "      <th>0</th>\n",
       "      <td>10595</td>\n",
       "      <td>https://www.airbnb.com/rooms/10595</td>\n",
       "      <td>2.021030e+13</td>\n",
       "      <td>2021-03-22</td>\n",
       "      <td>96m2, 3BR, 2BA, Metro, WI-FI etc...</td>\n",
       "      <td>Athens Furnished Apartment No6 is 3-bedroom ap...</td>\n",
       "      <td>Ampelokipi district is nice multinational and ...</td>\n",
       "      <td>https://a0.muscache.com/pictures/f7e19a44-5afe...</td>\n",
       "      <td>37177</td>\n",
       "      <td>https://www.airbnb.com/users/show/37177</td>\n",
       "      <td>...</td>\n",
       "      <td>10.0</td>\n",
       "      <td>9.0</td>\n",
       "      <td>10.0</td>\n",
       "      <td>478825</td>\n",
       "      <td>t</td>\n",
       "      <td>6</td>\n",
       "      <td>6</td>\n",
       "      <td>0</td>\n",
       "      <td>0</td>\n",
       "      <td>0.21</td>\n",
       "    </tr>\n",
       "    <tr>\n",
       "      <th>1</th>\n",
       "      <td>10990</td>\n",
       "      <td>https://www.airbnb.com/rooms/10990</td>\n",
       "      <td>2.021030e+13</td>\n",
       "      <td>2021-03-22</td>\n",
       "      <td>Athens Quality Apartments - Deluxe Apartment</td>\n",
       "      <td>Athens Quality Apartments - Deluxe apartment i...</td>\n",
       "      <td>Ampelokipi district is nice multinational and ...</td>\n",
       "      <td>https://a0.muscache.com/pictures/8645179/c1728...</td>\n",
       "      <td>37177</td>\n",
       "      <td>https://www.airbnb.com/users/show/37177</td>\n",
       "      <td>...</td>\n",
       "      <td>10.0</td>\n",
       "      <td>10.0</td>\n",
       "      <td>10.0</td>\n",
       "      <td>400315</td>\n",
       "      <td>t</td>\n",
       "      <td>6</td>\n",
       "      <td>6</td>\n",
       "      <td>0</td>\n",
       "      <td>0</td>\n",
       "      <td>0.42</td>\n",
       "    </tr>\n",
       "    <tr>\n",
       "      <th>2</th>\n",
       "      <td>10993</td>\n",
       "      <td>https://www.airbnb.com/rooms/10993</td>\n",
       "      <td>2.021030e+13</td>\n",
       "      <td>2021-03-22</td>\n",
       "      <td>Athens Quality Apartments - Studio</td>\n",
       "      <td>The Studio is an &lt;br /&gt;-excellent located &lt;br ...</td>\n",
       "      <td>Ampelokipi district is nice multinational and ...</td>\n",
       "      <td>https://a0.muscache.com/pictures/107309527/848...</td>\n",
       "      <td>37177</td>\n",
       "      <td>https://www.airbnb.com/users/show/37177</td>\n",
       "      <td>...</td>\n",
       "      <td>10.0</td>\n",
       "      <td>10.0</td>\n",
       "      <td>10.0</td>\n",
       "      <td>478790</td>\n",
       "      <td>t</td>\n",
       "      <td>6</td>\n",
       "      <td>6</td>\n",
       "      <td>0</td>\n",
       "      <td>0</td>\n",
       "      <td>0.56</td>\n",
       "    </tr>\n",
       "    <tr>\n",
       "      <th>3</th>\n",
       "      <td>10995</td>\n",
       "      <td>https://www.airbnb.com/rooms/10995</td>\n",
       "      <td>2.021030e+13</td>\n",
       "      <td>2021-03-22</td>\n",
       "      <td>AQA-No2 1-bedroom, smart tv, fiber connection,</td>\n",
       "      <td>AQA No2 is 1-bedroom apartment (47m2), on the ...</td>\n",
       "      <td>Ampelokipi district is nice multinational and ...</td>\n",
       "      <td>https://a0.muscache.com/pictures/6a565613-aaa3...</td>\n",
       "      <td>37177</td>\n",
       "      <td>https://www.airbnb.com/users/show/37177</td>\n",
       "      <td>...</td>\n",
       "      <td>10.0</td>\n",
       "      <td>10.0</td>\n",
       "      <td>10.0</td>\n",
       "      <td>479159</td>\n",
       "      <td>t</td>\n",
       "      <td>6</td>\n",
       "      <td>6</td>\n",
       "      <td>0</td>\n",
       "      <td>0</td>\n",
       "      <td>0.18</td>\n",
       "    </tr>\n",
       "    <tr>\n",
       "      <th>4</th>\n",
       "      <td>27262</td>\n",
       "      <td>https://www.airbnb.com/rooms/27262</td>\n",
       "      <td>2.021030e+13</td>\n",
       "      <td>2021-03-22</td>\n",
       "      <td>54m2, 1-br, cable tv, wi-fi, metro</td>\n",
       "      <td>Big 1-bedroom apartment that can accommodate 4...</td>\n",
       "      <td>NaN</td>\n",
       "      <td>https://a0.muscache.com/pictures/8651803/4b82b...</td>\n",
       "      <td>37177</td>\n",
       "      <td>https://www.airbnb.com/users/show/37177</td>\n",
       "      <td>...</td>\n",
       "      <td>10.0</td>\n",
       "      <td>9.0</td>\n",
       "      <td>9.0</td>\n",
       "      <td>492624</td>\n",
       "      <td>t</td>\n",
       "      <td>6</td>\n",
       "      <td>6</td>\n",
       "      <td>0</td>\n",
       "      <td>0</td>\n",
       "      <td>0.16</td>\n",
       "    </tr>\n",
       "  </tbody>\n",
       "</table>\n",
       "<p>5 rows × 74 columns</p>\n",
       "</div>"
      ],
      "text/plain": [
       "      id                         listing_url     scrape_id last_scraped  \\\n",
       "0  10595  https://www.airbnb.com/rooms/10595  2.021030e+13   2021-03-22   \n",
       "1  10990  https://www.airbnb.com/rooms/10990  2.021030e+13   2021-03-22   \n",
       "2  10993  https://www.airbnb.com/rooms/10993  2.021030e+13   2021-03-22   \n",
       "3  10995  https://www.airbnb.com/rooms/10995  2.021030e+13   2021-03-22   \n",
       "4  27262  https://www.airbnb.com/rooms/27262  2.021030e+13   2021-03-22   \n",
       "\n",
       "                                             name  \\\n",
       "0             96m2, 3BR, 2BA, Metro, WI-FI etc...   \n",
       "1    Athens Quality Apartments - Deluxe Apartment   \n",
       "2              Athens Quality Apartments - Studio   \n",
       "3  AQA-No2 1-bedroom, smart tv, fiber connection,   \n",
       "4              54m2, 1-br, cable tv, wi-fi, metro   \n",
       "\n",
       "                                         description  \\\n",
       "0  Athens Furnished Apartment No6 is 3-bedroom ap...   \n",
       "1  Athens Quality Apartments - Deluxe apartment i...   \n",
       "2  The Studio is an <br />-excellent located <br ...   \n",
       "3  AQA No2 is 1-bedroom apartment (47m2), on the ...   \n",
       "4  Big 1-bedroom apartment that can accommodate 4...   \n",
       "\n",
       "                               neighborhood_overview  \\\n",
       "0  Ampelokipi district is nice multinational and ...   \n",
       "1  Ampelokipi district is nice multinational and ...   \n",
       "2  Ampelokipi district is nice multinational and ...   \n",
       "3  Ampelokipi district is nice multinational and ...   \n",
       "4                                                NaN   \n",
       "\n",
       "                                         picture_url  host_id  \\\n",
       "0  https://a0.muscache.com/pictures/f7e19a44-5afe...    37177   \n",
       "1  https://a0.muscache.com/pictures/8645179/c1728...    37177   \n",
       "2  https://a0.muscache.com/pictures/107309527/848...    37177   \n",
       "3  https://a0.muscache.com/pictures/6a565613-aaa3...    37177   \n",
       "4  https://a0.muscache.com/pictures/8651803/4b82b...    37177   \n",
       "\n",
       "                                  host_url  ... review_scores_communication  \\\n",
       "0  https://www.airbnb.com/users/show/37177  ...                        10.0   \n",
       "1  https://www.airbnb.com/users/show/37177  ...                        10.0   \n",
       "2  https://www.airbnb.com/users/show/37177  ...                        10.0   \n",
       "3  https://www.airbnb.com/users/show/37177  ...                        10.0   \n",
       "4  https://www.airbnb.com/users/show/37177  ...                        10.0   \n",
       "\n",
       "  review_scores_location review_scores_value license instant_bookable  \\\n",
       "0                    9.0                10.0  478825                t   \n",
       "1                   10.0                10.0  400315                t   \n",
       "2                   10.0                10.0  478790                t   \n",
       "3                   10.0                10.0  479159                t   \n",
       "4                    9.0                 9.0  492624                t   \n",
       "\n",
       "  calculated_host_listings_count calculated_host_listings_count_entire_homes  \\\n",
       "0                              6                                           6   \n",
       "1                              6                                           6   \n",
       "2                              6                                           6   \n",
       "3                              6                                           6   \n",
       "4                              6                                           6   \n",
       "\n",
       "  calculated_host_listings_count_private_rooms  \\\n",
       "0                                            0   \n",
       "1                                            0   \n",
       "2                                            0   \n",
       "3                                            0   \n",
       "4                                            0   \n",
       "\n",
       "  calculated_host_listings_count_shared_rooms reviews_per_month  \n",
       "0                                           0              0.21  \n",
       "1                                           0              0.42  \n",
       "2                                           0              0.56  \n",
       "3                                           0              0.18  \n",
       "4                                           0              0.16  \n",
       "\n",
       "[5 rows x 74 columns]"
      ]
     },
     "execution_count": 14,
     "metadata": {},
     "output_type": "execute_result"
    }
   ],
   "source": [
    "df=pd.read_csv(\"Athenslistings.csv\")\n",
    "df.head()"
   ]
  },
  {
   "cell_type": "code",
   "execution_count": 15,
   "id": "f1f42c82-44c2-4f4d-9b9a-5283e8ccdefd",
   "metadata": {},
   "outputs": [
    {
     "data": {
      "text/plain": [
       "['id',\n",
       " 'listing_url',\n",
       " 'scrape_id',\n",
       " 'last_scraped',\n",
       " 'name',\n",
       " 'description',\n",
       " 'neighborhood_overview',\n",
       " 'picture_url',\n",
       " 'host_id',\n",
       " 'host_url',\n",
       " 'host_name',\n",
       " 'host_since',\n",
       " 'host_location',\n",
       " 'host_about',\n",
       " 'host_response_time',\n",
       " 'host_response_rate',\n",
       " 'host_acceptance_rate',\n",
       " 'host_is_superhost',\n",
       " 'host_thumbnail_url',\n",
       " 'host_picture_url',\n",
       " 'host_neighbourhood',\n",
       " 'host_listings_count',\n",
       " 'host_total_listings_count',\n",
       " 'host_verifications',\n",
       " 'host_has_profile_pic',\n",
       " 'host_identity_verified',\n",
       " 'neighbourhood',\n",
       " 'neighbourhood_cleansed',\n",
       " 'neighbourhood_group_cleansed',\n",
       " 'latitude',\n",
       " 'longitude',\n",
       " 'property_type',\n",
       " 'room_type',\n",
       " 'accommodates',\n",
       " 'bathrooms',\n",
       " 'bathrooms_text',\n",
       " 'bedrooms',\n",
       " 'beds',\n",
       " 'amenities',\n",
       " 'price',\n",
       " 'minimum_nights',\n",
       " 'maximum_nights',\n",
       " 'minimum_minimum_nights',\n",
       " 'maximum_minimum_nights',\n",
       " 'minimum_maximum_nights',\n",
       " 'maximum_maximum_nights',\n",
       " 'minimum_nights_avg_ntm',\n",
       " 'maximum_nights_avg_ntm',\n",
       " 'calendar_updated',\n",
       " 'has_availability',\n",
       " 'availability_30',\n",
       " 'availability_60',\n",
       " 'availability_90',\n",
       " 'availability_365',\n",
       " 'calendar_last_scraped',\n",
       " 'number_of_reviews',\n",
       " 'number_of_reviews_ltm',\n",
       " 'number_of_reviews_l30d',\n",
       " 'first_review',\n",
       " 'last_review',\n",
       " 'review_scores_rating',\n",
       " 'review_scores_accuracy',\n",
       " 'review_scores_cleanliness',\n",
       " 'review_scores_checkin',\n",
       " 'review_scores_communication',\n",
       " 'review_scores_location',\n",
       " 'review_scores_value',\n",
       " 'license',\n",
       " 'instant_bookable',\n",
       " 'calculated_host_listings_count',\n",
       " 'calculated_host_listings_count_entire_homes',\n",
       " 'calculated_host_listings_count_private_rooms',\n",
       " 'calculated_host_listings_count_shared_rooms',\n",
       " 'reviews_per_month']"
      ]
     },
     "execution_count": 15,
     "metadata": {},
     "output_type": "execute_result"
    }
   ],
   "source": [
    "list(df.columns)"
   ]
  },
  {
   "cell_type": "code",
   "execution_count": 16,
   "id": "1f8e32ba-9dac-4490-b9b8-7c6f8a9983fd",
   "metadata": {},
   "outputs": [
    {
     "data": {
      "text/html": [
       "<div>\n",
       "<style scoped>\n",
       "    .dataframe tbody tr th:only-of-type {\n",
       "        vertical-align: middle;\n",
       "    }\n",
       "\n",
       "    .dataframe tbody tr th {\n",
       "        vertical-align: top;\n",
       "    }\n",
       "\n",
       "    .dataframe thead th {\n",
       "        text-align: right;\n",
       "    }\n",
       "</style>\n",
       "<table border=\"1\" class=\"dataframe\">\n",
       "  <thead>\n",
       "    <tr style=\"text-align: right;\">\n",
       "      <th></th>\n",
       "      <th>host_is_superhost</th>\n",
       "      <th>host_since</th>\n",
       "      <th>review_scores_rating</th>\n",
       "      <th>number_of_reviews</th>\n",
       "    </tr>\n",
       "  </thead>\n",
       "  <tbody>\n",
       "    <tr>\n",
       "      <th>0</th>\n",
       "      <td>t</td>\n",
       "      <td>2009-09-08</td>\n",
       "      <td>97.0</td>\n",
       "      <td>25</td>\n",
       "    </tr>\n",
       "    <tr>\n",
       "      <th>1</th>\n",
       "      <td>t</td>\n",
       "      <td>2009-09-08</td>\n",
       "      <td>98.0</td>\n",
       "      <td>44</td>\n",
       "    </tr>\n",
       "    <tr>\n",
       "      <th>2</th>\n",
       "      <td>t</td>\n",
       "      <td>2009-09-08</td>\n",
       "      <td>97.0</td>\n",
       "      <td>58</td>\n",
       "    </tr>\n",
       "    <tr>\n",
       "      <th>3</th>\n",
       "      <td>t</td>\n",
       "      <td>2009-09-08</td>\n",
       "      <td>96.0</td>\n",
       "      <td>23</td>\n",
       "    </tr>\n",
       "    <tr>\n",
       "      <th>4</th>\n",
       "      <td>t</td>\n",
       "      <td>2009-09-08</td>\n",
       "      <td>95.0</td>\n",
       "      <td>17</td>\n",
       "    </tr>\n",
       "    <tr>\n",
       "      <th>...</th>\n",
       "      <td>...</td>\n",
       "      <td>...</td>\n",
       "      <td>...</td>\n",
       "      <td>...</td>\n",
       "    </tr>\n",
       "    <tr>\n",
       "      <th>9505</th>\n",
       "      <td>f</td>\n",
       "      <td>2017-07-11</td>\n",
       "      <td>NaN</td>\n",
       "      <td>0</td>\n",
       "    </tr>\n",
       "    <tr>\n",
       "      <th>9506</th>\n",
       "      <td>f</td>\n",
       "      <td>2018-10-19</td>\n",
       "      <td>NaN</td>\n",
       "      <td>0</td>\n",
       "    </tr>\n",
       "    <tr>\n",
       "      <th>9507</th>\n",
       "      <td>t</td>\n",
       "      <td>2014-08-27</td>\n",
       "      <td>NaN</td>\n",
       "      <td>0</td>\n",
       "    </tr>\n",
       "    <tr>\n",
       "      <th>9508</th>\n",
       "      <td>f</td>\n",
       "      <td>2021-03-19</td>\n",
       "      <td>NaN</td>\n",
       "      <td>0</td>\n",
       "    </tr>\n",
       "    <tr>\n",
       "      <th>9509</th>\n",
       "      <td>f</td>\n",
       "      <td>2019-11-20</td>\n",
       "      <td>NaN</td>\n",
       "      <td>0</td>\n",
       "    </tr>\n",
       "  </tbody>\n",
       "</table>\n",
       "<p>9510 rows × 4 columns</p>\n",
       "</div>"
      ],
      "text/plain": [
       "     host_is_superhost  host_since  review_scores_rating  number_of_reviews\n",
       "0                    t  2009-09-08                  97.0                 25\n",
       "1                    t  2009-09-08                  98.0                 44\n",
       "2                    t  2009-09-08                  97.0                 58\n",
       "3                    t  2009-09-08                  96.0                 23\n",
       "4                    t  2009-09-08                  95.0                 17\n",
       "...                ...         ...                   ...                ...\n",
       "9505                 f  2017-07-11                   NaN                  0\n",
       "9506                 f  2018-10-19                   NaN                  0\n",
       "9507                 t  2014-08-27                   NaN                  0\n",
       "9508                 f  2021-03-19                   NaN                  0\n",
       "9509                 f  2019-11-20                   NaN                  0\n",
       "\n",
       "[9510 rows x 4 columns]"
      ]
     },
     "execution_count": 16,
     "metadata": {},
     "output_type": "execute_result"
    }
   ],
   "source": [
    "df1= df[['host_is_superhost','host_since','review_scores_rating','number_of_reviews']]\n",
    "df1"
   ]
  },
  {
   "cell_type": "code",
   "execution_count": 17,
   "id": "6ea1fe4e-e97a-4a24-911e-fad6425d6f9e",
   "metadata": {},
   "outputs": [
    {
     "data": {
      "text/html": [
       "<div>\n",
       "<style scoped>\n",
       "    .dataframe tbody tr th:only-of-type {\n",
       "        vertical-align: middle;\n",
       "    }\n",
       "\n",
       "    .dataframe tbody tr th {\n",
       "        vertical-align: top;\n",
       "    }\n",
       "\n",
       "    .dataframe thead th {\n",
       "        text-align: right;\n",
       "    }\n",
       "</style>\n",
       "<table border=\"1\" class=\"dataframe\">\n",
       "  <thead>\n",
       "    <tr style=\"text-align: right;\">\n",
       "      <th></th>\n",
       "      <th>host_is_superhost</th>\n",
       "      <th>host_since</th>\n",
       "      <th>review_scores_rating</th>\n",
       "      <th>number_of_reviews</th>\n",
       "    </tr>\n",
       "  </thead>\n",
       "  <tbody>\n",
       "    <tr>\n",
       "      <th>0</th>\n",
       "      <td>t</td>\n",
       "      <td>2009-09-08</td>\n",
       "      <td>97.0</td>\n",
       "      <td>25</td>\n",
       "    </tr>\n",
       "    <tr>\n",
       "      <th>1</th>\n",
       "      <td>t</td>\n",
       "      <td>2009-09-08</td>\n",
       "      <td>98.0</td>\n",
       "      <td>44</td>\n",
       "    </tr>\n",
       "    <tr>\n",
       "      <th>2</th>\n",
       "      <td>t</td>\n",
       "      <td>2009-09-08</td>\n",
       "      <td>97.0</td>\n",
       "      <td>58</td>\n",
       "    </tr>\n",
       "    <tr>\n",
       "      <th>3</th>\n",
       "      <td>t</td>\n",
       "      <td>2009-09-08</td>\n",
       "      <td>96.0</td>\n",
       "      <td>23</td>\n",
       "    </tr>\n",
       "    <tr>\n",
       "      <th>4</th>\n",
       "      <td>t</td>\n",
       "      <td>2009-09-08</td>\n",
       "      <td>95.0</td>\n",
       "      <td>17</td>\n",
       "    </tr>\n",
       "    <tr>\n",
       "      <th>...</th>\n",
       "      <td>...</td>\n",
       "      <td>...</td>\n",
       "      <td>...</td>\n",
       "      <td>...</td>\n",
       "    </tr>\n",
       "    <tr>\n",
       "      <th>6996</th>\n",
       "      <td>f</td>\n",
       "      <td>2021-03-06</td>\n",
       "      <td>100.0</td>\n",
       "      <td>1</td>\n",
       "    </tr>\n",
       "    <tr>\n",
       "      <th>6997</th>\n",
       "      <td>f</td>\n",
       "      <td>2021-03-06</td>\n",
       "      <td>100.0</td>\n",
       "      <td>2</td>\n",
       "    </tr>\n",
       "    <tr>\n",
       "      <th>6998</th>\n",
       "      <td>f</td>\n",
       "      <td>2021-03-06</td>\n",
       "      <td>100.0</td>\n",
       "      <td>2</td>\n",
       "    </tr>\n",
       "    <tr>\n",
       "      <th>6999</th>\n",
       "      <td>f</td>\n",
       "      <td>2014-09-27</td>\n",
       "      <td>100.0</td>\n",
       "      <td>1</td>\n",
       "    </tr>\n",
       "    <tr>\n",
       "      <th>7000</th>\n",
       "      <td>f</td>\n",
       "      <td>2021-03-13</td>\n",
       "      <td>100.0</td>\n",
       "      <td>1</td>\n",
       "    </tr>\n",
       "  </tbody>\n",
       "</table>\n",
       "<p>7001 rows × 4 columns</p>\n",
       "</div>"
      ],
      "text/plain": [
       "     host_is_superhost  host_since  review_scores_rating  number_of_reviews\n",
       "0                    t  2009-09-08                  97.0                 25\n",
       "1                    t  2009-09-08                  98.0                 44\n",
       "2                    t  2009-09-08                  97.0                 58\n",
       "3                    t  2009-09-08                  96.0                 23\n",
       "4                    t  2009-09-08                  95.0                 17\n",
       "...                ...         ...                   ...                ...\n",
       "6996                 f  2021-03-06                 100.0                  1\n",
       "6997                 f  2021-03-06                 100.0                  2\n",
       "6998                 f  2021-03-06                 100.0                  2\n",
       "6999                 f  2014-09-27                 100.0                  1\n",
       "7000                 f  2021-03-13                 100.0                  1\n",
       "\n",
       "[7001 rows x 4 columns]"
      ]
     },
     "execution_count": 17,
     "metadata": {},
     "output_type": "execute_result"
    }
   ],
   "source": [
    "df1.dropna().reset_index(drop=True)"
   ]
  },
  {
   "cell_type": "code",
   "execution_count": 18,
   "id": "76556920-80fc-4d2c-bbac-b93880345a14",
   "metadata": {},
   "outputs": [
    {
     "data": {
      "text/html": [
       "<div>\n",
       "<style scoped>\n",
       "    .dataframe tbody tr th:only-of-type {\n",
       "        vertical-align: middle;\n",
       "    }\n",
       "\n",
       "    .dataframe tbody tr th {\n",
       "        vertical-align: top;\n",
       "    }\n",
       "\n",
       "    .dataframe thead th {\n",
       "        text-align: right;\n",
       "    }\n",
       "</style>\n",
       "<table border=\"1\" class=\"dataframe\">\n",
       "  <thead>\n",
       "    <tr style=\"text-align: right;\">\n",
       "      <th></th>\n",
       "      <th>host_is_superhost</th>\n",
       "      <th>host_since</th>\n",
       "      <th>review_scores_rating</th>\n",
       "      <th>number_of_reviews</th>\n",
       "    </tr>\n",
       "  </thead>\n",
       "  <tbody>\n",
       "    <tr>\n",
       "      <th>0</th>\n",
       "      <td>t</td>\n",
       "      <td>2009-09-08</td>\n",
       "      <td>97.0</td>\n",
       "      <td>25</td>\n",
       "    </tr>\n",
       "    <tr>\n",
       "      <th>1</th>\n",
       "      <td>t</td>\n",
       "      <td>2009-09-08</td>\n",
       "      <td>98.0</td>\n",
       "      <td>44</td>\n",
       "    </tr>\n",
       "    <tr>\n",
       "      <th>2</th>\n",
       "      <td>t</td>\n",
       "      <td>2009-09-08</td>\n",
       "      <td>97.0</td>\n",
       "      <td>58</td>\n",
       "    </tr>\n",
       "    <tr>\n",
       "      <th>3</th>\n",
       "      <td>t</td>\n",
       "      <td>2009-09-08</td>\n",
       "      <td>96.0</td>\n",
       "      <td>23</td>\n",
       "    </tr>\n",
       "    <tr>\n",
       "      <th>4</th>\n",
       "      <td>t</td>\n",
       "      <td>2009-09-08</td>\n",
       "      <td>95.0</td>\n",
       "      <td>17</td>\n",
       "    </tr>\n",
       "    <tr>\n",
       "      <th>...</th>\n",
       "      <td>...</td>\n",
       "      <td>...</td>\n",
       "      <td>...</td>\n",
       "      <td>...</td>\n",
       "    </tr>\n",
       "    <tr>\n",
       "      <th>9151</th>\n",
       "      <td>t</td>\n",
       "      <td>2020-10-18</td>\n",
       "      <td>96.0</td>\n",
       "      <td>14</td>\n",
       "    </tr>\n",
       "    <tr>\n",
       "      <th>9188</th>\n",
       "      <td>f</td>\n",
       "      <td>2016-11-29</td>\n",
       "      <td>96.0</td>\n",
       "      <td>14</td>\n",
       "    </tr>\n",
       "    <tr>\n",
       "      <th>9210</th>\n",
       "      <td>t</td>\n",
       "      <td>2017-03-28</td>\n",
       "      <td>88.0</td>\n",
       "      <td>12</td>\n",
       "    </tr>\n",
       "    <tr>\n",
       "      <th>9261</th>\n",
       "      <td>f</td>\n",
       "      <td>2020-11-18</td>\n",
       "      <td>68.0</td>\n",
       "      <td>13</td>\n",
       "    </tr>\n",
       "    <tr>\n",
       "      <th>9369</th>\n",
       "      <td>f</td>\n",
       "      <td>2021-01-14</td>\n",
       "      <td>100.0</td>\n",
       "      <td>11</td>\n",
       "    </tr>\n",
       "  </tbody>\n",
       "</table>\n",
       "<p>4569 rows × 4 columns</p>\n",
       "</div>"
      ],
      "text/plain": [
       "     host_is_superhost  host_since  review_scores_rating  number_of_reviews\n",
       "0                    t  2009-09-08                  97.0                 25\n",
       "1                    t  2009-09-08                  98.0                 44\n",
       "2                    t  2009-09-08                  97.0                 58\n",
       "3                    t  2009-09-08                  96.0                 23\n",
       "4                    t  2009-09-08                  95.0                 17\n",
       "...                ...         ...                   ...                ...\n",
       "9151                 t  2020-10-18                  96.0                 14\n",
       "9188                 f  2016-11-29                  96.0                 14\n",
       "9210                 t  2017-03-28                  88.0                 12\n",
       "9261                 f  2020-11-18                  68.0                 13\n",
       "9369                 f  2021-01-14                 100.0                 11\n",
       "\n",
       "[4569 rows x 4 columns]"
      ]
     },
     "execution_count": 18,
     "metadata": {},
     "output_type": "execute_result"
    }
   ],
   "source": [
    "df1 = df1[df1['number_of_reviews'] > 10]  \n",
    "df1"
   ]
  },
  {
   "cell_type": "code",
   "execution_count": 19,
   "id": "218073f6-e122-45fa-921e-7a50e9a19032",
   "metadata": {},
   "outputs": [
    {
     "data": {
      "text/html": [
       "<div>\n",
       "<style scoped>\n",
       "    .dataframe tbody tr th:only-of-type {\n",
       "        vertical-align: middle;\n",
       "    }\n",
       "\n",
       "    .dataframe tbody tr th {\n",
       "        vertical-align: top;\n",
       "    }\n",
       "\n",
       "    .dataframe thead th {\n",
       "        text-align: right;\n",
       "    }\n",
       "</style>\n",
       "<table border=\"1\" class=\"dataframe\">\n",
       "  <thead>\n",
       "    <tr style=\"text-align: right;\">\n",
       "      <th></th>\n",
       "      <th>host_is_superhost</th>\n",
       "      <th>host_since</th>\n",
       "      <th>review_scores_rating</th>\n",
       "      <th>number_of_reviews</th>\n",
       "    </tr>\n",
       "  </thead>\n",
       "  <tbody>\n",
       "    <tr>\n",
       "      <th>0</th>\n",
       "      <td>f</td>\n",
       "      <td>2010-06-17</td>\n",
       "      <td>94.0</td>\n",
       "      <td>71</td>\n",
       "    </tr>\n",
       "    <tr>\n",
       "      <th>1</th>\n",
       "      <td>f</td>\n",
       "      <td>2010-11-14</td>\n",
       "      <td>95.0</td>\n",
       "      <td>331</td>\n",
       "    </tr>\n",
       "    <tr>\n",
       "      <th>2</th>\n",
       "      <td>f</td>\n",
       "      <td>2011-03-20</td>\n",
       "      <td>88.0</td>\n",
       "      <td>21</td>\n",
       "    </tr>\n",
       "    <tr>\n",
       "      <th>3</th>\n",
       "      <td>f</td>\n",
       "      <td>2011-05-12</td>\n",
       "      <td>99.0</td>\n",
       "      <td>250</td>\n",
       "    </tr>\n",
       "    <tr>\n",
       "      <th>4</th>\n",
       "      <td>f</td>\n",
       "      <td>2011-05-19</td>\n",
       "      <td>94.0</td>\n",
       "      <td>122</td>\n",
       "    </tr>\n",
       "    <tr>\n",
       "      <th>...</th>\n",
       "      <td>...</td>\n",
       "      <td>...</td>\n",
       "      <td>...</td>\n",
       "      <td>...</td>\n",
       "    </tr>\n",
       "    <tr>\n",
       "      <th>2114</th>\n",
       "      <td>f</td>\n",
       "      <td>2018-06-11</td>\n",
       "      <td>76.0</td>\n",
       "      <td>11</td>\n",
       "    </tr>\n",
       "    <tr>\n",
       "      <th>2115</th>\n",
       "      <td>f</td>\n",
       "      <td>2020-10-11</td>\n",
       "      <td>100.0</td>\n",
       "      <td>14</td>\n",
       "    </tr>\n",
       "    <tr>\n",
       "      <th>2116</th>\n",
       "      <td>f</td>\n",
       "      <td>2016-11-29</td>\n",
       "      <td>96.0</td>\n",
       "      <td>14</td>\n",
       "    </tr>\n",
       "    <tr>\n",
       "      <th>2117</th>\n",
       "      <td>f</td>\n",
       "      <td>2020-11-18</td>\n",
       "      <td>68.0</td>\n",
       "      <td>13</td>\n",
       "    </tr>\n",
       "    <tr>\n",
       "      <th>2118</th>\n",
       "      <td>f</td>\n",
       "      <td>2021-01-14</td>\n",
       "      <td>100.0</td>\n",
       "      <td>11</td>\n",
       "    </tr>\n",
       "  </tbody>\n",
       "</table>\n",
       "<p>2119 rows × 4 columns</p>\n",
       "</div>"
      ],
      "text/plain": [
       "     host_is_superhost  host_since  review_scores_rating  number_of_reviews\n",
       "0                    f  2010-06-17                  94.0                 71\n",
       "1                    f  2010-11-14                  95.0                331\n",
       "2                    f  2011-03-20                  88.0                 21\n",
       "3                    f  2011-05-12                  99.0                250\n",
       "4                    f  2011-05-19                  94.0                122\n",
       "...                ...         ...                   ...                ...\n",
       "2114                 f  2018-06-11                  76.0                 11\n",
       "2115                 f  2020-10-11                 100.0                 14\n",
       "2116                 f  2016-11-29                  96.0                 14\n",
       "2117                 f  2020-11-18                  68.0                 13\n",
       "2118                 f  2021-01-14                 100.0                 11\n",
       "\n",
       "[2119 rows x 4 columns]"
      ]
     },
     "execution_count": 19,
     "metadata": {},
     "output_type": "execute_result"
    }
   ],
   "source": [
    "df2 = df1[df1['host_is_superhost'] !='t']\n",
    "df2=df2.reset_index(drop=True)\n",
    "df2"
   ]
  },
  {
   "cell_type": "code",
   "execution_count": 20,
   "id": "bceff3ae-9874-45ac-883e-81d6725f686b",
   "metadata": {},
   "outputs": [
    {
     "data": {
      "text/html": [
       "<div>\n",
       "<style scoped>\n",
       "    .dataframe tbody tr th:only-of-type {\n",
       "        vertical-align: middle;\n",
       "    }\n",
       "\n",
       "    .dataframe tbody tr th {\n",
       "        vertical-align: top;\n",
       "    }\n",
       "\n",
       "    .dataframe thead th {\n",
       "        text-align: right;\n",
       "    }\n",
       "</style>\n",
       "<table border=\"1\" class=\"dataframe\">\n",
       "  <thead>\n",
       "    <tr style=\"text-align: right;\">\n",
       "      <th></th>\n",
       "      <th>host_is_superhost</th>\n",
       "      <th>host_since</th>\n",
       "      <th>review_scores_rating</th>\n",
       "      <th>number_of_reviews</th>\n",
       "    </tr>\n",
       "  </thead>\n",
       "  <tbody>\n",
       "    <tr>\n",
       "      <th>0</th>\n",
       "      <td>t</td>\n",
       "      <td>2009-09-08</td>\n",
       "      <td>97.0</td>\n",
       "      <td>25</td>\n",
       "    </tr>\n",
       "    <tr>\n",
       "      <th>1</th>\n",
       "      <td>t</td>\n",
       "      <td>2009-09-08</td>\n",
       "      <td>98.0</td>\n",
       "      <td>44</td>\n",
       "    </tr>\n",
       "    <tr>\n",
       "      <th>2</th>\n",
       "      <td>t</td>\n",
       "      <td>2009-09-08</td>\n",
       "      <td>97.0</td>\n",
       "      <td>58</td>\n",
       "    </tr>\n",
       "    <tr>\n",
       "      <th>3</th>\n",
       "      <td>t</td>\n",
       "      <td>2009-09-08</td>\n",
       "      <td>96.0</td>\n",
       "      <td>23</td>\n",
       "    </tr>\n",
       "    <tr>\n",
       "      <th>4</th>\n",
       "      <td>t</td>\n",
       "      <td>2009-09-08</td>\n",
       "      <td>95.0</td>\n",
       "      <td>17</td>\n",
       "    </tr>\n",
       "    <tr>\n",
       "      <th>...</th>\n",
       "      <td>...</td>\n",
       "      <td>...</td>\n",
       "      <td>...</td>\n",
       "      <td>...</td>\n",
       "    </tr>\n",
       "    <tr>\n",
       "      <th>2628</th>\n",
       "      <td>t</td>\n",
       "      <td>2019-01-11</td>\n",
       "      <td>98.0</td>\n",
       "      <td>26</td>\n",
       "    </tr>\n",
       "    <tr>\n",
       "      <th>2629</th>\n",
       "      <td>t</td>\n",
       "      <td>2016-12-19</td>\n",
       "      <td>98.0</td>\n",
       "      <td>16</td>\n",
       "    </tr>\n",
       "    <tr>\n",
       "      <th>2630</th>\n",
       "      <td>t</td>\n",
       "      <td>2020-02-05</td>\n",
       "      <td>100.0</td>\n",
       "      <td>18</td>\n",
       "    </tr>\n",
       "    <tr>\n",
       "      <th>2631</th>\n",
       "      <td>t</td>\n",
       "      <td>2020-10-18</td>\n",
       "      <td>96.0</td>\n",
       "      <td>14</td>\n",
       "    </tr>\n",
       "    <tr>\n",
       "      <th>2632</th>\n",
       "      <td>t</td>\n",
       "      <td>2017-03-28</td>\n",
       "      <td>88.0</td>\n",
       "      <td>12</td>\n",
       "    </tr>\n",
       "  </tbody>\n",
       "</table>\n",
       "<p>2633 rows × 4 columns</p>\n",
       "</div>"
      ],
      "text/plain": [
       "     host_is_superhost  host_since  review_scores_rating  number_of_reviews\n",
       "0                    t  2009-09-08                  97.0                 25\n",
       "1                    t  2009-09-08                  98.0                 44\n",
       "2                    t  2009-09-08                  97.0                 58\n",
       "3                    t  2009-09-08                  96.0                 23\n",
       "4                    t  2009-09-08                  95.0                 17\n",
       "...                ...         ...                   ...                ...\n",
       "2628                 t  2019-01-11                  98.0                 26\n",
       "2629                 t  2016-12-19                  98.0                 16\n",
       "2630                 t  2020-02-05                 100.0                 18\n",
       "2631                 t  2020-10-18                  96.0                 14\n",
       "2632                 t  2017-03-28                  88.0                 12\n",
       "\n",
       "[2633 rows x 4 columns]"
      ]
     },
     "execution_count": 20,
     "metadata": {},
     "output_type": "execute_result"
    }
   ],
   "source": [
    "df3 = df1[df1['host_is_superhost'] !='f']\n",
    "df3=df3.reset_index(drop=True)\n",
    "df3"
   ]
  },
  {
   "cell_type": "code",
   "execution_count": 21,
   "id": "75cafb2d-44b8-43fb-b108-a3d2a34ec6ce",
   "metadata": {},
   "outputs": [
    {
     "data": {
      "text/plain": [
       "(2119, 4)"
      ]
     },
     "execution_count": 21,
     "metadata": {},
     "output_type": "execute_result"
    }
   ],
   "source": [
    "df2.shape"
   ]
  },
  {
   "cell_type": "code",
   "execution_count": 22,
   "id": "b2fe94f8-9cc7-475f-a562-2d8f5299f801",
   "metadata": {},
   "outputs": [
    {
     "data": {
      "text/plain": [
       "<bound method DataFrame.info of      host_is_superhost  host_since  review_scores_rating  number_of_reviews\n",
       "0                    f  2010-06-17                  94.0                 71\n",
       "1                    f  2010-11-14                  95.0                331\n",
       "2                    f  2011-03-20                  88.0                 21\n",
       "3                    f  2011-05-12                  99.0                250\n",
       "4                    f  2011-05-19                  94.0                122\n",
       "...                ...         ...                   ...                ...\n",
       "2114                 f  2018-06-11                  76.0                 11\n",
       "2115                 f  2020-10-11                 100.0                 14\n",
       "2116                 f  2016-11-29                  96.0                 14\n",
       "2117                 f  2020-11-18                  68.0                 13\n",
       "2118                 f  2021-01-14                 100.0                 11\n",
       "\n",
       "[2119 rows x 4 columns]>"
      ]
     },
     "execution_count": 22,
     "metadata": {},
     "output_type": "execute_result"
    }
   ],
   "source": [
    "df2.info"
   ]
  },
  {
   "cell_type": "code",
   "execution_count": 23,
   "id": "6ae71a68-8624-4b76-a12c-b754c8bf4bcb",
   "metadata": {},
   "outputs": [
    {
     "data": {
      "text/plain": [
       "94.11656441717791"
      ]
     },
     "execution_count": 23,
     "metadata": {},
     "output_type": "execute_result"
    }
   ],
   "source": [
    "df2_mean = df2[\"review_scores_rating\"].mean()\n",
    "df2_mean"
   ]
  },
  {
   "cell_type": "code",
   "execution_count": 24,
   "id": "7c2bc97d-36a6-4996-89e5-1c17d2626a04",
   "metadata": {},
   "outputs": [
    {
     "data": {
      "text/plain": [
       "65.41529023124116"
      ]
     },
     "execution_count": 24,
     "metadata": {},
     "output_type": "execute_result"
    }
   ],
   "source": [
    "df2_mean = df2[\"number_of_reviews\"].mean()\n",
    "df2_mean"
   ]
  },
  {
   "cell_type": "code",
   "execution_count": 25,
   "id": "d0b11a60-6c88-4288-be4f-777be1d87768",
   "metadata": {},
   "outputs": [
    {
     "data": {
      "text/plain": [
       "(2633, 4)"
      ]
     },
     "execution_count": 25,
     "metadata": {},
     "output_type": "execute_result"
    }
   ],
   "source": [
    "df3.shape"
   ]
  },
  {
   "cell_type": "code",
   "execution_count": 26,
   "id": "16f4df3b-03a6-49af-91c6-1ae057844f79",
   "metadata": {},
   "outputs": [
    {
     "data": {
      "text/plain": [
       "<bound method DataFrame.info of      host_is_superhost  host_since  review_scores_rating  number_of_reviews\n",
       "0                    t  2009-09-08                  97.0                 25\n",
       "1                    t  2009-09-08                  98.0                 44\n",
       "2                    t  2009-09-08                  97.0                 58\n",
       "3                    t  2009-09-08                  96.0                 23\n",
       "4                    t  2009-09-08                  95.0                 17\n",
       "...                ...         ...                   ...                ...\n",
       "2628                 t  2019-01-11                  98.0                 26\n",
       "2629                 t  2016-12-19                  98.0                 16\n",
       "2630                 t  2020-02-05                 100.0                 18\n",
       "2631                 t  2020-10-18                  96.0                 14\n",
       "2632                 t  2017-03-28                  88.0                 12\n",
       "\n",
       "[2633 rows x 4 columns]>"
      ]
     },
     "execution_count": 26,
     "metadata": {},
     "output_type": "execute_result"
    }
   ],
   "source": [
    "df3.info"
   ]
  },
  {
   "cell_type": "code",
   "execution_count": 22,
   "id": "af9d914e-8f4f-49ee-8396-abc9de249e59",
   "metadata": {},
   "outputs": [
    {
     "data": {
      "text/plain": [
       "97.5153816938853"
      ]
     },
     "execution_count": 22,
     "metadata": {},
     "output_type": "execute_result"
    }
   ],
   "source": [
    "df3_mean = df3[\"review_scores_rating\"].mean()\n",
    "df3_mean"
   ]
  },
  {
   "cell_type": "code",
   "execution_count": 23,
   "id": "b33ea99d-fe4e-4ed7-b25e-d3e17e7fc06b",
   "metadata": {},
   "outputs": [
    {
     "data": {
      "text/plain": [
       "84.66578047854159"
      ]
     },
     "execution_count": 23,
     "metadata": {},
     "output_type": "execute_result"
    }
   ],
   "source": [
    "df3_mean = df3[\"number_of_reviews\"].mean()\n",
    "df3_mean"
   ]
  },
  {
   "cell_type": "code",
   "execution_count": 24,
   "id": "dd740e39-fcae-4efb-8a91-ca1f2aa6bdf6",
   "metadata": {},
   "outputs": [
    {
     "data": {
      "text/plain": [
       "1936"
      ]
     },
     "execution_count": 24,
     "metadata": {},
     "output_type": "execute_result"
    }
   ],
   "source": [
    "df2['host_since'].count().min()"
   ]
  },
  {
   "cell_type": "code",
   "execution_count": 32,
   "id": "f9f15bf6-4d34-4420-9e86-ab923ebdf248",
   "metadata": {},
   "outputs": [
    {
     "data": {
      "text/plain": [
       "<seaborn.axisgrid.JointGrid at 0x7fd1e19a2250>"
      ]
     },
     "execution_count": 32,
     "metadata": {},
     "output_type": "execute_result"
    },
    {
     "data": {
      "image/png": "[encoded data removed]",
      "text/plain": [
       "<Figure size 432x432 with 3 Axes>"
      ]
     },
     "metadata": {
      "needs_background": "light"
     },
     "output_type": "display_data"
    }
   ],
   "source": [
    "sns.jointplot(data=df2, x='review_scores_rating', y='number_of_reviews', kind='hex')"
   ]
  },
  {
   "cell_type": "code",
   "execution_count": 34,
   "id": "712d1b5f-46ef-4182-be51-931dc52daf2f",
   "metadata": {},
   "outputs": [
    {
     "data": {
      "text/plain": [
       "<seaborn.axisgrid.JointGrid at 0x7fd1e2104dc0>"
      ]
     },
     "execution_count": 34,
     "metadata": {},
     "output_type": "execute_result"
    },
    {
     "data": {
      "image/png": "[encoded data removed]",
      "text/plain": [
       "<Figure size 432x432 with 3 Axes>"
      ]
     },
     "metadata": {
      "needs_background": "light"
     },
     "output_type": "display_data"
    }
   ],
   "source": [
    "sns.jointplot(data=df3, x='review_scores_rating', y='number_of_reviews', kind='hex')"
   ]
  },
  {
   "cell_type": "code",
   "execution_count": 27,
   "id": "18d19909-aae9-49f0-97d3-eb36a98beaa9",
   "metadata": {},
   "outputs": [
    {
     "data": {
      "image/png": "[encoded data removed]",
      "text/plain": [
       "<Figure size 360x360 with 5 Axes>"
      ]
     },
     "metadata": {
      "needs_background": "light"
     },
     "output_type": "display_data"
    }
   ],
   "source": [
    "g = sns.pairplot(data=df2.select_dtypes(include='number'),\n",
    "                 corner=True)"
   ]
  },
  {
   "cell_type": "code",
   "execution_count": 29,
   "id": "509742ca-3168-4b0b-8e30-3727c03e721a",
   "metadata": {},
   "outputs": [
    {
     "data": {
      "image/png": "[encoded data removed]",
      "text/plain": [
       "<Figure size 360x360 with 5 Axes>"
      ]
     },
     "metadata": {
      "needs_background": "light"
     },
     "output_type": "display_data"
    }
   ],
   "source": [
    "g = sns.pairplot(data=df3.select_dtypes(include='number'),\n",
    "                 corner=True)"
   ]
  },
  {
   "cell_type": "code",
   "execution_count": null,
   "id": "48c7cdf0-0edf-4d98-bc1b-a3e9d68a87aa",
   "metadata": {},
   "outputs": [],
   "source": []
  }
 ],
 "metadata": {
  "kernelspec": {
   "display_name": "Python 3",
   "language": "python",
   "name": "python3"
  },
  "language_info": {
   "codemirror_mode": {
    "name": "ipython",
    "version": 3
   },
   "file_extension": ".py",
   "mimetype": "text/x-python",
   "name": "python",
   "nbconvert_exporter": "python",
   "pygments_lexer": "ipython3",
   "version": "3.8.5"
  }
 },
 "nbformat": 4,
 "nbformat_minor": 5
}
