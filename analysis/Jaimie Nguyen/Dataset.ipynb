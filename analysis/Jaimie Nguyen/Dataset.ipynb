{
 "cells": [
  {
   "cell_type": "code",
   "execution_count": 52,
   "id": "d09394dc-5b6a-49cd-99d5-d27e5bd1dd40",
   "metadata": {},
   "outputs": [],
   "source": [
    "import pandas as pd\n",
    "import numpy as np\n",
    "import matplotlib.pyplot as plt\n",
    "import seaborn as sns"
   ]
  },
  {
   "cell_type": "code",
   "execution_count": 53,
   "id": "b39d12c1-c52d-436e-9750-a858a1430fc1",
   "metadata": {},
   "outputs": [
    {
     "data": {
      "text/plain": [
       "'C:\\\\Users\\\\Jaimie Nguyen\\\\OneDrive\\\\Desktop\\\\Data Project\\\\project-group36-project\\\\data\\\\raw'"
      ]
     },
     "execution_count": 53,
     "metadata": {},
     "output_type": "execute_result"
    }
   ],
   "source": [
    "pwd"
   ]
  },
  {
   "cell_type": "code",
   "execution_count": 54,
   "id": "1b91ac4d-1077-41ae-9d48-5f33e2e33aa3",
   "metadata": {},
   "outputs": [
    {
     "name": "stdout",
     "output_type": "stream",
     "text": [
      "C:\\Users\\Jaimie Nguyen\\OneDrive\\Desktop\\Data Project\\project-group36-project\\data\n"
     ]
    }
   ],
   "source": [
    "cd .."
   ]
  },
  {
   "cell_type": "code",
   "execution_count": 55,
   "id": "98ee4853-f261-4d89-83a2-506f6c45e174",
   "metadata": {},
   "outputs": [
    {
     "name": "stdout",
     "output_type": "stream",
     "text": [
      " Volume in drive C is OS\n",
      " Volume Serial Number is 1ED4-D029\n",
      "\n",
      " Directory of C:\\Users\\Jaimie Nguyen\\OneDrive\\Desktop\\Data Project\\project-group36-project\\data\n",
      "\n",
      "07/27/2021  01:28 PM    <DIR>          .\n",
      "07/27/2021  01:28 PM    <DIR>          ..\n",
      "07/27/2021  01:28 PM    <DIR>          .ipynb_checkpoints\n",
      "07/15/2021  10:14 AM    <DIR>          processed\n",
      "07/15/2021  10:14 AM    <DIR>          raw\n",
      "07/15/2021  10:14 AM                 8 README.md\n",
      "               1 File(s)              8 bytes\n",
      "               5 Dir(s)  122,979,184,640 bytes free\n"
     ]
    }
   ],
   "source": [
    "ls"
   ]
  },
  {
   "cell_type": "code",
   "execution_count": 56,
   "id": "1609c85c-eb40-4181-b73c-8ab75860a618",
   "metadata": {},
   "outputs": [
    {
     "name": "stdout",
     "output_type": "stream",
     "text": [
      "C:\\Users\\Jaimie Nguyen\\OneDrive\\Desktop\\Data Project\\project-group36-project\n"
     ]
    }
   ],
   "source": [
    "cd .."
   ]
  },
  {
   "cell_type": "code",
   "execution_count": 57,
   "id": "e19b0023-b876-4ade-bdaa-8fa4eaa95032",
   "metadata": {},
   "outputs": [
    {
     "name": "stdout",
     "output_type": "stream",
     "text": [
      " Volume in drive C is OS\n",
      " Volume Serial Number is 1ED4-D029\n",
      "\n",
      " Directory of C:\\Users\\Jaimie Nguyen\\OneDrive\\Desktop\\Data Project\\project-group36-project\n",
      "\n",
      "07/27/2021  01:28 PM    <DIR>          .\n",
      "07/27/2021  01:28 PM    <DIR>          ..\n",
      "07/15/2021  10:14 AM            11,141 .gitignore\n",
      "07/27/2021  01:28 PM    <DIR>          .ipynb_checkpoints\n",
      "07/15/2021  11:47 AM    <DIR>          analysis\n",
      "07/15/2021  10:14 AM                 0 CODE_OF_CONDUCT.md\n",
      "07/27/2021  01:28 PM    <DIR>          data\n",
      "07/15/2021  10:14 AM    <DIR>          images\n",
      "07/15/2021  10:14 AM             1,072 LICENSE\n",
      "07/15/2021  10:14 AM    <DIR>          presentation\n",
      "07/15/2021  11:33 AM             2,332 README.md\n",
      "               4 File(s)         14,545 bytes\n",
      "               7 Dir(s)  122,979,119,104 bytes free\n"
     ]
    }
   ],
   "source": [
    "ls"
   ]
  },
  {
   "cell_type": "code",
   "execution_count": 58,
   "id": "029d8fd1-c521-48a8-b120-4d659b79f6af",
   "metadata": {},
   "outputs": [
    {
     "name": "stdout",
     "output_type": "stream",
     "text": [
      "C:\\Users\\Jaimie Nguyen\\OneDrive\\Desktop\\Data Project\\project-group36-project\\data\n"
     ]
    }
   ],
   "source": [
    "cd data"
   ]
  },
  {
   "cell_type": "code",
   "execution_count": 59,
   "id": "1368b83e-4dd7-4846-9ed2-4ac59031e9ac",
   "metadata": {},
   "outputs": [
    {
     "name": "stdout",
     "output_type": "stream",
     "text": [
      "C:\\Users\\Jaimie Nguyen\\OneDrive\\Desktop\\Data Project\\project-group36-project\\data\\raw\n"
     ]
    }
   ],
   "source": [
    "cd raw"
   ]
  },
  {
   "cell_type": "code",
   "execution_count": 91,
   "id": "5a7af583-80d5-408d-b799-e14c1183964e",
   "metadata": {},
   "outputs": [],
   "source": [
    "df=pd.read_csv(\"Athenslistings.csv\")"
   ]
  },
  {
   "cell_type": "code",
   "execution_count": null,
   "id": "cc5bdf7b-0db6-43b7-99c5-a17057a526e9",
   "metadata": {},
   "outputs": [],
   "source": []
  },
  {
   "cell_type": "code",
   "execution_count": 122,
   "id": "7a30c521-8146-41a6-b7a9-cb5f1bc03617",
   "metadata": {},
   "outputs": [
    {
     "data": {
      "text/html": [
       "<div>\n",
       "<style scoped>\n",
       "    .dataframe tbody tr th:only-of-type {\n",
       "        vertical-align: middle;\n",
       "    }\n",
       "\n",
       "    .dataframe tbody tr th {\n",
       "        vertical-align: top;\n",
       "    }\n",
       "\n",
       "    .dataframe thead th {\n",
       "        text-align: right;\n",
       "    }\n",
       "</style>\n",
       "<table border=\"1\" class=\"dataframe\">\n",
       "  <thead>\n",
       "    <tr style=\"text-align: right;\">\n",
       "      <th></th>\n",
       "      <th>property_type</th>\n",
       "      <th>accommodates</th>\n",
       "      <th>price</th>\n",
       "    </tr>\n",
       "  </thead>\n",
       "  <tbody>\n",
       "    <tr>\n",
       "      <th>0</th>\n",
       "      <td>Entire apartment</td>\n",
       "      <td>8</td>\n",
       "      <td>74.0</td>\n",
       "    </tr>\n",
       "    <tr>\n",
       "      <th>1</th>\n",
       "      <td>Entire apartment</td>\n",
       "      <td>4</td>\n",
       "      <td>50.0</td>\n",
       "    </tr>\n",
       "    <tr>\n",
       "      <th>2</th>\n",
       "      <td>Entire apartment</td>\n",
       "      <td>2</td>\n",
       "      <td>40.0</td>\n",
       "    </tr>\n",
       "    <tr>\n",
       "      <th>3</th>\n",
       "      <td>Entire apartment</td>\n",
       "      <td>4</td>\n",
       "      <td>50.0</td>\n",
       "    </tr>\n",
       "    <tr>\n",
       "      <th>4</th>\n",
       "      <td>Entire apartment</td>\n",
       "      <td>4</td>\n",
       "      <td>50.0</td>\n",
       "    </tr>\n",
       "    <tr>\n",
       "      <th>...</th>\n",
       "      <td>...</td>\n",
       "      <td>...</td>\n",
       "      <td>...</td>\n",
       "    </tr>\n",
       "    <tr>\n",
       "      <th>9505</th>\n",
       "      <td>Entire apartment</td>\n",
       "      <td>2</td>\n",
       "      <td>50.0</td>\n",
       "    </tr>\n",
       "    <tr>\n",
       "      <th>9506</th>\n",
       "      <td>Entire apartment</td>\n",
       "      <td>4</td>\n",
       "      <td>40.0</td>\n",
       "    </tr>\n",
       "    <tr>\n",
       "      <th>9507</th>\n",
       "      <td>Entire apartment</td>\n",
       "      <td>6</td>\n",
       "      <td>392.0</td>\n",
       "    </tr>\n",
       "    <tr>\n",
       "      <th>9508</th>\n",
       "      <td>Entire condominium</td>\n",
       "      <td>6</td>\n",
       "      <td>34.0</td>\n",
       "    </tr>\n",
       "    <tr>\n",
       "      <th>9509</th>\n",
       "      <td>Entire apartment</td>\n",
       "      <td>2</td>\n",
       "      <td>125.0</td>\n",
       "    </tr>\n",
       "  </tbody>\n",
       "</table>\n",
       "<p>9510 rows × 3 columns</p>\n",
       "</div>"
      ],
      "text/plain": [
       "           property_type  accommodates  price\n",
       "0       Entire apartment             8   74.0\n",
       "1       Entire apartment             4   50.0\n",
       "2       Entire apartment             2   40.0\n",
       "3       Entire apartment             4   50.0\n",
       "4       Entire apartment             4   50.0\n",
       "...                  ...           ...    ...\n",
       "9505    Entire apartment             2   50.0\n",
       "9506    Entire apartment             4   40.0\n",
       "9507    Entire apartment             6  392.0\n",
       "9508  Entire condominium             6   34.0\n",
       "9509    Entire apartment             2  125.0\n",
       "\n",
       "[9510 rows x 3 columns]"
      ]
     },
     "execution_count": 122,
     "metadata": {},
     "output_type": "execute_result"
    }
   ],
   "source": [
    "df= df[[ 'property_type', 'accommodates', 'price']]\n",
    "\n",
    "df['price']=df['price'].replace({r'\\$':''}, regex = True)\n",
    "df['price']=df['price'].replace({r'\\,':''}, regex = True)\n",
    "\n",
    "df"
   ]
  },
  {
   "cell_type": "code",
   "execution_count": 115,
   "id": "27a08919-3673-4aad-bee6-9df13d11be3e",
   "metadata": {},
   "outputs": [],
   "source": [
    "df['price'] = pd.to_numeric(df['price'])\n"
   ]
  },
  {
   "cell_type": "code",
   "execution_count": 123,
   "id": "15c48d61-04e9-49d2-b40a-d188a9adeeff",
   "metadata": {},
   "outputs": [
    {
     "name": "stdout",
     "output_type": "stream",
     "text": [
      "0        9.25\n",
      "1       12.50\n",
      "2       20.00\n",
      "3       12.50\n",
      "4       12.50\n",
      "        ...  \n",
      "9505    25.00\n",
      "9506    10.00\n",
      "9507    65.33\n",
      "9508     5.67\n",
      "9509    62.50\n",
      "Name: per_person, Length: 9510, dtype: float64\n"
     ]
    }
   ],
   "source": [
    "df['per_person'] = df['price']/df['accommodates']\n",
    "df['per_person']=df['per_person'].round(2)\n",
    "print(df['per_person'])"
   ]
  },
  {
   "cell_type": "code",
   "execution_count": 146,
   "id": "c4a36118-c11a-432f-8f11-f892031044ce",
   "metadata": {},
   "outputs": [
    {
     "data": {
      "text/html": [
       "<div>\n",
       "<style scoped>\n",
       "    .dataframe tbody tr th:only-of-type {\n",
       "        vertical-align: middle;\n",
       "    }\n",
       "\n",
       "    .dataframe tbody tr th {\n",
       "        vertical-align: top;\n",
       "    }\n",
       "\n",
       "    .dataframe thead th {\n",
       "        text-align: right;\n",
       "    }\n",
       "</style>\n",
       "<table border=\"1\" class=\"dataframe\">\n",
       "  <thead>\n",
       "    <tr style=\"text-align: right;\">\n",
       "      <th></th>\n",
       "      <th>property_type</th>\n",
       "      <th>accommodates</th>\n",
       "      <th>price</th>\n",
       "      <th>per_person</th>\n",
       "    </tr>\n",
       "  </thead>\n",
       "  <tbody>\n",
       "    <tr>\n",
       "      <th>0</th>\n",
       "      <td>Entire apartment</td>\n",
       "      <td>8</td>\n",
       "      <td>74.0</td>\n",
       "      <td>9.25</td>\n",
       "    </tr>\n",
       "    <tr>\n",
       "      <th>1</th>\n",
       "      <td>Entire apartment</td>\n",
       "      <td>4</td>\n",
       "      <td>50.0</td>\n",
       "      <td>12.50</td>\n",
       "    </tr>\n",
       "    <tr>\n",
       "      <th>2</th>\n",
       "      <td>Entire apartment</td>\n",
       "      <td>2</td>\n",
       "      <td>40.0</td>\n",
       "      <td>20.00</td>\n",
       "    </tr>\n",
       "    <tr>\n",
       "      <th>3</th>\n",
       "      <td>Entire apartment</td>\n",
       "      <td>4</td>\n",
       "      <td>50.0</td>\n",
       "      <td>12.50</td>\n",
       "    </tr>\n",
       "    <tr>\n",
       "      <th>4</th>\n",
       "      <td>Entire apartment</td>\n",
       "      <td>4</td>\n",
       "      <td>50.0</td>\n",
       "      <td>12.50</td>\n",
       "    </tr>\n",
       "    <tr>\n",
       "      <th>...</th>\n",
       "      <td>...</td>\n",
       "      <td>...</td>\n",
       "      <td>...</td>\n",
       "      <td>...</td>\n",
       "    </tr>\n",
       "    <tr>\n",
       "      <th>9505</th>\n",
       "      <td>Entire apartment</td>\n",
       "      <td>2</td>\n",
       "      <td>50.0</td>\n",
       "      <td>25.00</td>\n",
       "    </tr>\n",
       "    <tr>\n",
       "      <th>9506</th>\n",
       "      <td>Entire apartment</td>\n",
       "      <td>4</td>\n",
       "      <td>40.0</td>\n",
       "      <td>10.00</td>\n",
       "    </tr>\n",
       "    <tr>\n",
       "      <th>9507</th>\n",
       "      <td>Entire apartment</td>\n",
       "      <td>6</td>\n",
       "      <td>392.0</td>\n",
       "      <td>65.33</td>\n",
       "    </tr>\n",
       "    <tr>\n",
       "      <th>9508</th>\n",
       "      <td>Entire condominium</td>\n",
       "      <td>6</td>\n",
       "      <td>34.0</td>\n",
       "      <td>5.67</td>\n",
       "    </tr>\n",
       "    <tr>\n",
       "      <th>9509</th>\n",
       "      <td>Entire apartment</td>\n",
       "      <td>2</td>\n",
       "      <td>125.0</td>\n",
       "      <td>62.50</td>\n",
       "    </tr>\n",
       "  </tbody>\n",
       "</table>\n",
       "<p>9486 rows × 4 columns</p>\n",
       "</div>"
      ],
      "text/plain": [
       "           property_type  accommodates  price  per_person\n",
       "0       Entire apartment             8   74.0        9.25\n",
       "1       Entire apartment             4   50.0       12.50\n",
       "2       Entire apartment             2   40.0       20.00\n",
       "3       Entire apartment             4   50.0       12.50\n",
       "4       Entire apartment             4   50.0       12.50\n",
       "...                  ...           ...    ...         ...\n",
       "9505    Entire apartment             2   50.0       25.00\n",
       "9506    Entire apartment             4   40.0       10.00\n",
       "9507    Entire apartment             6  392.0       65.33\n",
       "9508  Entire condominium             6   34.0        5.67\n",
       "9509    Entire apartment             2  125.0       62.50\n",
       "\n",
       "[9486 rows x 4 columns]"
      ]
     },
     "execution_count": 146,
     "metadata": {},
     "output_type": "execute_result"
    }
   ],
   "source": [
    "Apdf=df[df['property_type'] =='Entire apartment'].reset_index(drop=True)\n",
    "Apdf=df[df['per_person'] < 300]\n",
    "Apdf"
   ]
  },
  {
   "cell_type": "code",
   "execution_count": null,
   "id": "a2f5d6f0-45e5-41d7-81b7-2b0acf673da1",
   "metadata": {},
   "outputs": [],
   "source": []
  },
  {
   "cell_type": "code",
   "execution_count": 125,
   "id": "ae161eae-8b46-40bc-8eb8-07179aaa5829",
   "metadata": {},
   "outputs": [
    {
     "data": {
      "text/html": [
       "<div>\n",
       "<style scoped>\n",
       "    .dataframe tbody tr th:only-of-type {\n",
       "        vertical-align: middle;\n",
       "    }\n",
       "\n",
       "    .dataframe tbody tr th {\n",
       "        vertical-align: top;\n",
       "    }\n",
       "\n",
       "    .dataframe thead th {\n",
       "        text-align: right;\n",
       "    }\n",
       "</style>\n",
       "<table border=\"1\" class=\"dataframe\">\n",
       "  <thead>\n",
       "    <tr style=\"text-align: right;\">\n",
       "      <th></th>\n",
       "      <th>property_type</th>\n",
       "      <th>accommodates</th>\n",
       "      <th>price</th>\n",
       "      <th>per_person</th>\n",
       "    </tr>\n",
       "  </thead>\n",
       "  <tbody>\n",
       "    <tr>\n",
       "      <th>0</th>\n",
       "      <td>Entire condominium</td>\n",
       "      <td>12</td>\n",
       "      <td>298.0</td>\n",
       "      <td>24.83</td>\n",
       "    </tr>\n",
       "    <tr>\n",
       "      <th>1</th>\n",
       "      <td>Entire condominium</td>\n",
       "      <td>8</td>\n",
       "      <td>189.0</td>\n",
       "      <td>23.62</td>\n",
       "    </tr>\n",
       "    <tr>\n",
       "      <th>2</th>\n",
       "      <td>Entire condominium</td>\n",
       "      <td>2</td>\n",
       "      <td>44.0</td>\n",
       "      <td>22.00</td>\n",
       "    </tr>\n",
       "    <tr>\n",
       "      <th>3</th>\n",
       "      <td>Entire condominium</td>\n",
       "      <td>5</td>\n",
       "      <td>80.0</td>\n",
       "      <td>16.00</td>\n",
       "    </tr>\n",
       "    <tr>\n",
       "      <th>4</th>\n",
       "      <td>Entire condominium</td>\n",
       "      <td>12</td>\n",
       "      <td>294.0</td>\n",
       "      <td>24.50</td>\n",
       "    </tr>\n",
       "    <tr>\n",
       "      <th>...</th>\n",
       "      <td>...</td>\n",
       "      <td>...</td>\n",
       "      <td>...</td>\n",
       "      <td>...</td>\n",
       "    </tr>\n",
       "    <tr>\n",
       "      <th>284</th>\n",
       "      <td>Entire condominium</td>\n",
       "      <td>5</td>\n",
       "      <td>20.0</td>\n",
       "      <td>4.00</td>\n",
       "    </tr>\n",
       "    <tr>\n",
       "      <th>285</th>\n",
       "      <td>Entire condominium</td>\n",
       "      <td>2</td>\n",
       "      <td>35.0</td>\n",
       "      <td>17.50</td>\n",
       "    </tr>\n",
       "    <tr>\n",
       "      <th>286</th>\n",
       "      <td>Entire condominium</td>\n",
       "      <td>2</td>\n",
       "      <td>104.0</td>\n",
       "      <td>52.00</td>\n",
       "    </tr>\n",
       "    <tr>\n",
       "      <th>287</th>\n",
       "      <td>Entire condominium</td>\n",
       "      <td>4</td>\n",
       "      <td>19.0</td>\n",
       "      <td>4.75</td>\n",
       "    </tr>\n",
       "    <tr>\n",
       "      <th>288</th>\n",
       "      <td>Entire condominium</td>\n",
       "      <td>6</td>\n",
       "      <td>34.0</td>\n",
       "      <td>5.67</td>\n",
       "    </tr>\n",
       "  </tbody>\n",
       "</table>\n",
       "<p>289 rows × 4 columns</p>\n",
       "</div>"
      ],
      "text/plain": [
       "          property_type  accommodates  price  per_person\n",
       "0    Entire condominium            12  298.0       24.83\n",
       "1    Entire condominium             8  189.0       23.62\n",
       "2    Entire condominium             2   44.0       22.00\n",
       "3    Entire condominium             5   80.0       16.00\n",
       "4    Entire condominium            12  294.0       24.50\n",
       "..                  ...           ...    ...         ...\n",
       "284  Entire condominium             5   20.0        4.00\n",
       "285  Entire condominium             2   35.0       17.50\n",
       "286  Entire condominium             2  104.0       52.00\n",
       "287  Entire condominium             4   19.0        4.75\n",
       "288  Entire condominium             6   34.0        5.67\n",
       "\n",
       "[289 rows x 4 columns]"
      ]
     },
     "execution_count": 125,
     "metadata": {},
     "output_type": "execute_result"
    }
   ],
   "source": [
    "condf=df[df['property_type'] =='Entire condominium'].reset_index(drop=True)\n",
    "condf"
   ]
  },
  {
   "cell_type": "code",
   "execution_count": null,
   "id": "1b9b8de9-3623-408c-9601-838cb570c06f",
   "metadata": {},
   "outputs": [],
   "source": []
  },
  {
   "cell_type": "code",
   "execution_count": 165,
   "id": "f0cf3696-0ad9-40ff-8d35-6329d4340fb6",
   "metadata": {},
   "outputs": [
    {
     "data": {
      "text/html": [
       "<div>\n",
       "<style scoped>\n",
       "    .dataframe tbody tr th:only-of-type {\n",
       "        vertical-align: middle;\n",
       "    }\n",
       "\n",
       "    .dataframe tbody tr th {\n",
       "        vertical-align: top;\n",
       "    }\n",
       "\n",
       "    .dataframe thead th {\n",
       "        text-align: right;\n",
       "    }\n",
       "</style>\n",
       "<table border=\"1\" class=\"dataframe\">\n",
       "  <thead>\n",
       "    <tr style=\"text-align: right;\">\n",
       "      <th></th>\n",
       "      <th>property_type</th>\n",
       "      <th>accommodates</th>\n",
       "      <th>price</th>\n",
       "      <th>per_person</th>\n",
       "    </tr>\n",
       "  </thead>\n",
       "  <tbody>\n",
       "    <tr>\n",
       "      <th>0</th>\n",
       "      <td>Private room in apartment</td>\n",
       "      <td>1</td>\n",
       "      <td>39.0</td>\n",
       "      <td>39.0</td>\n",
       "    </tr>\n",
       "    <tr>\n",
       "      <th>1</th>\n",
       "      <td>Private room in apartment</td>\n",
       "      <td>2</td>\n",
       "      <td>30.0</td>\n",
       "      <td>15.0</td>\n",
       "    </tr>\n",
       "    <tr>\n",
       "      <th>2</th>\n",
       "      <td>Private room in apartment</td>\n",
       "      <td>2</td>\n",
       "      <td>30.0</td>\n",
       "      <td>15.0</td>\n",
       "    </tr>\n",
       "    <tr>\n",
       "      <th>3</th>\n",
       "      <td>Private room in apartment</td>\n",
       "      <td>2</td>\n",
       "      <td>30.0</td>\n",
       "      <td>15.0</td>\n",
       "    </tr>\n",
       "    <tr>\n",
       "      <th>4</th>\n",
       "      <td>Private room in apartment</td>\n",
       "      <td>2</td>\n",
       "      <td>30.0</td>\n",
       "      <td>15.0</td>\n",
       "    </tr>\n",
       "    <tr>\n",
       "      <th>...</th>\n",
       "      <td>...</td>\n",
       "      <td>...</td>\n",
       "      <td>...</td>\n",
       "      <td>...</td>\n",
       "    </tr>\n",
       "    <tr>\n",
       "      <th>612</th>\n",
       "      <td>Private room in condominium</td>\n",
       "      <td>1</td>\n",
       "      <td>10.0</td>\n",
       "      <td>10.0</td>\n",
       "    </tr>\n",
       "    <tr>\n",
       "      <th>613</th>\n",
       "      <td>Private room in condominium</td>\n",
       "      <td>1</td>\n",
       "      <td>10.0</td>\n",
       "      <td>10.0</td>\n",
       "    </tr>\n",
       "    <tr>\n",
       "      <th>614</th>\n",
       "      <td>Private room in condominium</td>\n",
       "      <td>1</td>\n",
       "      <td>10.0</td>\n",
       "      <td>10.0</td>\n",
       "    </tr>\n",
       "    <tr>\n",
       "      <th>615</th>\n",
       "      <td>Private room in condominium</td>\n",
       "      <td>1</td>\n",
       "      <td>12.0</td>\n",
       "      <td>12.0</td>\n",
       "    </tr>\n",
       "    <tr>\n",
       "      <th>616</th>\n",
       "      <td>Private room in condominium</td>\n",
       "      <td>1</td>\n",
       "      <td>18.0</td>\n",
       "      <td>18.0</td>\n",
       "    </tr>\n",
       "  </tbody>\n",
       "</table>\n",
       "<p>567 rows × 4 columns</p>\n",
       "</div>"
      ],
      "text/plain": [
       "                   property_type  accommodates  price  per_person\n",
       "0      Private room in apartment             1   39.0        39.0\n",
       "1      Private room in apartment             2   30.0        15.0\n",
       "2      Private room in apartment             2   30.0        15.0\n",
       "3      Private room in apartment             2   30.0        15.0\n",
       "4      Private room in apartment             2   30.0        15.0\n",
       "..                           ...           ...    ...         ...\n",
       "612  Private room in condominium             1   10.0        10.0\n",
       "613  Private room in condominium             1   10.0        10.0\n",
       "614  Private room in condominium             1   10.0        10.0\n",
       "615  Private room in condominium             1   12.0        12.0\n",
       "616  Private room in condominium             1   18.0        18.0\n",
       "\n",
       "[567 rows x 4 columns]"
      ]
     },
     "execution_count": 165,
     "metadata": {},
     "output_type": "execute_result"
    }
   ],
   "source": [
    "prapdf=df[df['property_type'] =='Private room in apartment'].reset_index(drop=True)\n",
    "prcondf=df[df['property_type'] =='Private room in condominium'].reset_index(drop=True)\n",
    "private=prapdf.merge(prcondf,\"outer\")\n",
    "private=private[private['per_person'] < 100]\n",
    "private=private[private['accommodates']<=3]\n",
    "\n",
    "private"
   ]
  },
  {
   "cell_type": "code",
   "execution_count": null,
   "id": "3539800d-076a-49a6-b1d2-e8ab84e3e839",
   "metadata": {},
   "outputs": [],
   "source": []
  },
  {
   "cell_type": "code",
   "execution_count": 167,
   "id": "7e05fa94-7471-4165-943c-68a784a7631a",
   "metadata": {},
   "outputs": [
    {
     "data": {
      "text/html": [
       "<div>\n",
       "<style scoped>\n",
       "    .dataframe tbody tr th:only-of-type {\n",
       "        vertical-align: middle;\n",
       "    }\n",
       "\n",
       "    .dataframe tbody tr th {\n",
       "        vertical-align: top;\n",
       "    }\n",
       "\n",
       "    .dataframe thead th {\n",
       "        text-align: right;\n",
       "    }\n",
       "</style>\n",
       "<table border=\"1\" class=\"dataframe\">\n",
       "  <thead>\n",
       "    <tr style=\"text-align: right;\">\n",
       "      <th></th>\n",
       "      <th>property_type</th>\n",
       "      <th>accommodates</th>\n",
       "      <th>price</th>\n",
       "      <th>per_person</th>\n",
       "    </tr>\n",
       "  </thead>\n",
       "  <tbody>\n",
       "    <tr>\n",
       "      <th>0</th>\n",
       "      <td>Entire loft</td>\n",
       "      <td>4</td>\n",
       "      <td>58.0</td>\n",
       "      <td>14.50</td>\n",
       "    </tr>\n",
       "    <tr>\n",
       "      <th>1</th>\n",
       "      <td>Entire house</td>\n",
       "      <td>4</td>\n",
       "      <td>45.0</td>\n",
       "      <td>11.25</td>\n",
       "    </tr>\n",
       "    <tr>\n",
       "      <th>2</th>\n",
       "      <td>Entire loft</td>\n",
       "      <td>3</td>\n",
       "      <td>32.0</td>\n",
       "      <td>10.67</td>\n",
       "    </tr>\n",
       "    <tr>\n",
       "      <th>3</th>\n",
       "      <td>Entire cottage</td>\n",
       "      <td>4</td>\n",
       "      <td>80.0</td>\n",
       "      <td>20.00</td>\n",
       "    </tr>\n",
       "    <tr>\n",
       "      <th>4</th>\n",
       "      <td>Entire bed and breakfast</td>\n",
       "      <td>3</td>\n",
       "      <td>120.0</td>\n",
       "      <td>40.00</td>\n",
       "    </tr>\n",
       "    <tr>\n",
       "      <th>...</th>\n",
       "      <td>...</td>\n",
       "      <td>...</td>\n",
       "      <td>...</td>\n",
       "      <td>...</td>\n",
       "    </tr>\n",
       "    <tr>\n",
       "      <th>1252</th>\n",
       "      <td>Entire villa</td>\n",
       "      <td>10</td>\n",
       "      <td>699.0</td>\n",
       "      <td>69.90</td>\n",
       "    </tr>\n",
       "    <tr>\n",
       "      <th>1253</th>\n",
       "      <td>Room in hotel</td>\n",
       "      <td>2</td>\n",
       "      <td>60.0</td>\n",
       "      <td>30.00</td>\n",
       "    </tr>\n",
       "    <tr>\n",
       "      <th>1254</th>\n",
       "      <td>Room in hotel</td>\n",
       "      <td>3</td>\n",
       "      <td>253.0</td>\n",
       "      <td>84.33</td>\n",
       "    </tr>\n",
       "    <tr>\n",
       "      <th>1255</th>\n",
       "      <td>Entire villa</td>\n",
       "      <td>8</td>\n",
       "      <td>66.0</td>\n",
       "      <td>8.25</td>\n",
       "    </tr>\n",
       "    <tr>\n",
       "      <th>1256</th>\n",
       "      <td>Room in aparthotel</td>\n",
       "      <td>4</td>\n",
       "      <td>30.0</td>\n",
       "      <td>7.50</td>\n",
       "    </tr>\n",
       "  </tbody>\n",
       "</table>\n",
       "<p>1251 rows × 4 columns</p>\n",
       "</div>"
      ],
      "text/plain": [
       "                 property_type  accommodates  price  per_person\n",
       "0                  Entire loft             4   58.0       14.50\n",
       "1                 Entire house             4   45.0       11.25\n",
       "2                  Entire loft             3   32.0       10.67\n",
       "3               Entire cottage             4   80.0       20.00\n",
       "4     Entire bed and breakfast             3  120.0       40.00\n",
       "...                        ...           ...    ...         ...\n",
       "1252              Entire villa            10  699.0       69.90\n",
       "1253             Room in hotel             2   60.0       30.00\n",
       "1254             Room in hotel             3  253.0       84.33\n",
       "1255              Entire villa             8   66.0        8.25\n",
       "1256        Room in aparthotel             4   30.0        7.50\n",
       "\n",
       "[1251 rows x 4 columns]"
      ]
     },
     "execution_count": 167,
     "metadata": {},
     "output_type": "execute_result"
    }
   ],
   "source": [
    "df1=df[df['property_type'] !='Entire apartment'].reset_index(drop=True)\n",
    "df1=df1[df1['property_type'] !='Private room in apartment'].reset_index(drop=True)\n",
    "df1=df1[df1['property_type'] !='Private room in condominium'].reset_index(drop=True)\n",
    "df1=df1[df1['property_type'] !='Entire condominium'].reset_index(drop=True)\n",
    "df2=df1[df1['accommodates'] < 7]\n",
    "df2=df1[df1['per_person'] < 300]\n",
    "df2\n"
   ]
  },
  {
   "cell_type": "code",
   "execution_count": 184,
   "id": "7b2efe83-2b75-4ea4-99c5-455dd807b60b",
   "metadata": {},
   "outputs": [
    {
     "data": {
      "text/plain": [
       "Text(0.5, 0, 'Number of Guests')"
      ]
     },
     "execution_count": 184,
     "metadata": {},
     "output_type": "execute_result"
    },
    {
     "data": {
      "image/png": "[encoded data removed]",
      "text/plain": [
       "<Figure size 504x720 with 1 Axes>"
      ]
     },
     "metadata": {
      "needs_background": "light"
     },
     "output_type": "display_data"
    }
   ],
   "source": [
    "plt.subplots(figsize=(7, 10))\n",
    "sns.boxplot(x=\"accommodates\", y=\"per_person\", data=Apdf)\n",
    "plt.ylabel('Price per Person')\n",
    "plt.title('Box plot of Entire Apartments available',fontsize=17)\n",
    "plt.xlabel('Number of Guests')"
   ]
  },
  {
   "cell_type": "code",
   "execution_count": 183,
   "id": "8e330cbb-6b1e-4e50-87a3-1b76146313a3",
   "metadata": {},
   "outputs": [
    {
     "data": {
      "text/plain": [
       "Text(0.5, 0, 'Number of Guests')"
      ]
     },
     "execution_count": 183,
     "metadata": {},
     "output_type": "execute_result"
    },
    {
     "data": {
      "image/png": "[encoded data removed]",
      "text/plain": [
       "<Figure size 504x720 with 1 Axes>"
      ]
     },
     "metadata": {
      "needs_background": "light"
     },
     "output_type": "display_data"
    }
   ],
   "source": [
    "plt.subplots(figsize=(7, 10))\n",
    "sns.boxplot(x=\"accommodates\", y=\"per_person\", data=private)\n",
    "plt.ylabel('Price per Person')\n",
    "plt.title('Box plot of Private Rooms in Apartments or Condonimum',fontsize=17)\n",
    "plt.xlabel('Number of Guests')"
   ]
  },
  {
   "cell_type": "code",
   "execution_count": 181,
   "id": "711faa9a-8d67-4dd6-9b54-1ff74a30ff59",
   "metadata": {},
   "outputs": [
    {
     "data": {
      "text/plain": [
       "Text(0.5, 0, 'Number of Guests')"
      ]
     },
     "execution_count": 181,
     "metadata": {},
     "output_type": "execute_result"
    },
    {
     "data": {
      "image/png": "[encoded data removed]",
      "text/plain": [
       "<Figure size 504x720 with 1 Axes>"
      ]
     },
     "metadata": {
      "needs_background": "light"
     },
     "output_type": "display_data"
    }
   ],
   "source": [
    "plt.subplots(figsize=(7, 10))\n",
    "sns.boxplot(x=\"accommodates\", y=\"per_person\", data=df2)\n",
    "plt.ylabel('Price per Person')\n",
    "plt.title('Box plot of other Properties',fontsize=17)\n",
    "plt.xlabel('Number of Guests')"
   ]
  },
  {
   "cell_type": "code",
   "execution_count": 180,
   "id": "49611ff2-b457-4248-933e-245186584be0",
   "metadata": {},
   "outputs": [
    {
     "data": {
      "text/plain": [
       "Text(0.5, 0, 'Number of Guests')"
      ]
     },
     "execution_count": 180,
     "metadata": {},
     "output_type": "execute_result"
    },
    {
     "data": {
      "image/png": "[encoded data removed]",
      "text/plain": [
       "<Figure size 504x360 with 1 Axes>"
      ]
     },
     "metadata": {
      "needs_background": "light"
     },
     "output_type": "display_data"
    }
   ],
   "source": [
    "plt.subplots(figsize=(7, 5 ))\n",
    "sns.boxplot(x=\"accommodates\", y=\"per_person\", data=condf)\n",
    "plt.ylabel('Price per Person')\n",
    "plt.title('Box plot of Entire Condominiums available:',fontsize=17)\n",
    "plt.xlabel('Number of Guests')"
   ]
  },
  {
   "cell_type": "code",
   "execution_count": 177,
   "id": "01181976-40e1-46b5-be4a-43ba40c3fdb8",
   "metadata": {},
   "outputs": [
    {
     "data": {
      "text/plain": [
       "Text(0.5, 0, 'Number of Guests')"
      ]
     },
     "execution_count": 177,
     "metadata": {},
     "output_type": "execute_result"
    },
    {
     "data": {
      "image/png": "[encoded data removed]",
      "text/plain": [
       "<Figure size 504x360 with 1 Axes>"
      ]
     },
     "metadata": {
      "needs_background": "light"
     },
     "output_type": "display_data"
    }
   ],
   "source": [
    "plt.subplots(figsize=(7, 5 ))\n",
    "sns.boxplot(x=\"accommodates\", y=\"per_person\", data=large)\n",
    "plt.ylabel('Price per Person')\n",
    "plt.title('Box plot of Properties that hold 7 or more guests',fontsize=17)\n",
    "plt.xlabel('Number of Guests')"
   ]
  },
  {
   "cell_type": "code",
   "execution_count": 137,
   "id": "94a45e78-a454-4275-bb34-bb30cb42abc6",
   "metadata": {
    "tags": []
   },
   "outputs": [
    {
     "data": {
      "text/html": [
       "<div>\n",
       "<style scoped>\n",
       "    .dataframe tbody tr th:only-of-type {\n",
       "        vertical-align: middle;\n",
       "    }\n",
       "\n",
       "    .dataframe tbody tr th {\n",
       "        vertical-align: top;\n",
       "    }\n",
       "\n",
       "    .dataframe thead th {\n",
       "        text-align: right;\n",
       "    }\n",
       "</style>\n",
       "<table border=\"1\" class=\"dataframe\">\n",
       "  <thead>\n",
       "    <tr style=\"text-align: right;\">\n",
       "      <th></th>\n",
       "      <th>property_type</th>\n",
       "      <th>accommodates</th>\n",
       "      <th>price</th>\n",
       "      <th>per_person</th>\n",
       "    </tr>\n",
       "  </thead>\n",
       "  <tbody>\n",
       "    <tr>\n",
       "      <th>25</th>\n",
       "      <td>Private room in boat</td>\n",
       "      <td>8</td>\n",
       "      <td>260.0</td>\n",
       "      <td>32.50</td>\n",
       "    </tr>\n",
       "    <tr>\n",
       "      <th>62</th>\n",
       "      <td>Entire house</td>\n",
       "      <td>8</td>\n",
       "      <td>120.0</td>\n",
       "      <td>15.00</td>\n",
       "    </tr>\n",
       "    <tr>\n",
       "      <th>63</th>\n",
       "      <td>Entire house</td>\n",
       "      <td>7</td>\n",
       "      <td>80.0</td>\n",
       "      <td>11.43</td>\n",
       "    </tr>\n",
       "    <tr>\n",
       "      <th>94</th>\n",
       "      <td>Entire house</td>\n",
       "      <td>11</td>\n",
       "      <td>340.0</td>\n",
       "      <td>30.91</td>\n",
       "    </tr>\n",
       "    <tr>\n",
       "      <th>108</th>\n",
       "      <td>Entire villa</td>\n",
       "      <td>8</td>\n",
       "      <td>216.0</td>\n",
       "      <td>27.00</td>\n",
       "    </tr>\n",
       "    <tr>\n",
       "      <th>...</th>\n",
       "      <td>...</td>\n",
       "      <td>...</td>\n",
       "      <td>...</td>\n",
       "      <td>...</td>\n",
       "    </tr>\n",
       "    <tr>\n",
       "      <th>1167</th>\n",
       "      <td>Shared room in apartment</td>\n",
       "      <td>11</td>\n",
       "      <td>9.0</td>\n",
       "      <td>0.82</td>\n",
       "    </tr>\n",
       "    <tr>\n",
       "      <th>1216</th>\n",
       "      <td>Entire serviced apartment</td>\n",
       "      <td>7</td>\n",
       "      <td>65.0</td>\n",
       "      <td>9.29</td>\n",
       "    </tr>\n",
       "    <tr>\n",
       "      <th>1248</th>\n",
       "      <td>Private room in house</td>\n",
       "      <td>8</td>\n",
       "      <td>40.0</td>\n",
       "      <td>5.00</td>\n",
       "    </tr>\n",
       "    <tr>\n",
       "      <th>1252</th>\n",
       "      <td>Entire villa</td>\n",
       "      <td>10</td>\n",
       "      <td>699.0</td>\n",
       "      <td>69.90</td>\n",
       "    </tr>\n",
       "    <tr>\n",
       "      <th>1255</th>\n",
       "      <td>Entire villa</td>\n",
       "      <td>8</td>\n",
       "      <td>66.0</td>\n",
       "      <td>8.25</td>\n",
       "    </tr>\n",
       "  </tbody>\n",
       "</table>\n",
       "<p>104 rows × 4 columns</p>\n",
       "</div>"
      ],
      "text/plain": [
       "                  property_type  accommodates  price  per_person\n",
       "25         Private room in boat             8  260.0       32.50\n",
       "62                 Entire house             8  120.0       15.00\n",
       "63                 Entire house             7   80.0       11.43\n",
       "94                 Entire house            11  340.0       30.91\n",
       "108                Entire villa             8  216.0       27.00\n",
       "...                         ...           ...    ...         ...\n",
       "1167   Shared room in apartment            11    9.0        0.82\n",
       "1216  Entire serviced apartment             7   65.0        9.29\n",
       "1248      Private room in house             8   40.0        5.00\n",
       "1252               Entire villa            10  699.0       69.90\n",
       "1255               Entire villa             8   66.0        8.25\n",
       "\n",
       "[104 rows x 4 columns]"
      ]
     },
     "execution_count": 137,
     "metadata": {},
     "output_type": "execute_result"
    }
   ],
   "source": [
    "large = df1[df1['accommodates'] >= 7]\n",
    "large"
   ]
  },
  {
   "cell_type": "code",
   "execution_count": null,
   "id": "845f14b9-488b-452d-b909-b8c7187b8f50",
   "metadata": {},
   "outputs": [],
   "source": []
  },
  {
   "cell_type": "code",
   "execution_count": null,
   "id": "838bf4b0-2f46-4d4b-9ed4-ce75a043713f",
   "metadata": {},
   "outputs": [],
   "source": []
  },
  {
   "cell_type": "code",
   "execution_count": null,
   "id": "89d2c5a3-e030-4f21-90b3-505e19ad2abf",
   "metadata": {},
   "outputs": [],
   "source": []
  }
 ],
 "metadata": {
  "kernelspec": {
   "display_name": "Python 3 (ipykernel)",
   "language": "python",
   "name": "python3"
  },
  "language_info": {
   "codemirror_mode": {
    "name": "ipython",
    "version": 3
   },
   "file_extension": ".py",
   "mimetype": "text/x-python",
   "name": "python",
   "nbconvert_exporter": "python",
   "pygments_lexer": "ipython3",
   "version": "3.8.5"
  }
 },
 "nbformat": 4,
 "nbformat_minor": 5
}
